{
  "nbformat": 4,
  "nbformat_minor": 0,
  "metadata": {
    "colab": {
      "provenance": [],
      "authorship_tag": "ABX9TyN1mfBjlFXbXh2NQFE6m57Q",
      "include_colab_link": true
    },
    "kernelspec": {
      "name": "python3",
      "display_name": "Python 3"
    },
    "language_info": {
      "name": "python"
    }
  },
  "cells": [
    {
      "cell_type": "markdown",
      "metadata": {
        "id": "view-in-github",
        "colab_type": "text"
      },
      "source": [
        "<a href=\"https://colab.research.google.com/github/fahmiibrahim1902/KKA-X-Semester-1/blob/main/Salinan_dari_1_Fungsi_Print_Fahmi_X10.ipynb\" target=\"_parent\"><img src=\"https://colab.research.google.com/assets/colab-badge.svg\" alt=\"Open In Colab\"/></a>"
      ]
    },
    {
      "cell_type": "code",
      "execution_count": null,
      "metadata": {
        "colab": {
          "base_uri": "https://localhost:8080/"
        },
        "id": "xoHC5u5oFjuu",
        "outputId": "b014e18a-2b8a-47c0-ff01-5af70ae42883"
      },
      "outputs": [
        {
          "output_type": "stream",
          "name": "stdout",
          "text": [
            "muhammad fahmi ibrahim\n"
          ]
        }
      ],
      "source": [
        "nama = \"muhammad fahmi ibrahim\"\n",
        "print (nama)"
      ]
    },
    {
      "cell_type": "code",
      "source": [
        "usia = \"15\"\n",
        "print (usia)"
      ],
      "metadata": {
        "colab": {
          "base_uri": "https://localhost:8080/"
        },
        "id": "gEJM_kFDGR_n",
        "outputId": "f736a9fb-14bb-491a-cc3d-562b43652d44"
      },
      "execution_count": null,
      "outputs": [
        {
          "output_type": "stream",
          "name": "stdout",
          "text": [
            "15\n"
          ]
        }
      ]
    },
    {
      "cell_type": "code",
      "source": [
        "kelas = \"X-10\"\n",
        "print (kelas)"
      ],
      "metadata": {
        "colab": {
          "base_uri": "https://localhost:8080/"
        },
        "id": "4DKmwTWrGgYE",
        "outputId": "238876f3-ccf5-429a-c5f2-a1a130f678d0"
      },
      "execution_count": null,
      "outputs": [
        {
          "output_type": "stream",
          "name": "stdout",
          "text": [
            "X-10\n"
          ]
        }
      ]
    },
    {
      "cell_type": "code",
      "source": [
        "Absen = \"15\"\n",
        "print (Absen)"
      ],
      "metadata": {
        "colab": {
          "base_uri": "https://localhost:8080/"
        },
        "id": "QHh-uoXxGpEo",
        "outputId": "543ccd7e-3fa6-409d-b7ce-da76f32f092f"
      },
      "execution_count": null,
      "outputs": [
        {
          "output_type": "stream",
          "name": "stdout",
          "text": [
            "15\n"
          ]
        }
      ]
    },
    {
      "cell_type": "code",
      "source": [
        "print(f\"Halo Nama Saya ({nama}) Saya Umur ({usia}) tahun\")"
      ],
      "metadata": {
        "colab": {
          "base_uri": "https://localhost:8080/"
        },
        "id": "5Ho89KxiGvTw",
        "outputId": "d1ab0fc4-4f2e-4fed-9ae7-d092e38c32d1"
      },
      "execution_count": null,
      "outputs": [
        {
          "output_type": "stream",
          "name": "stdout",
          "text": [
            "Halo Nama Saya (muhammad fahmi ibrahim) Saya Umur (15) tahun\n"
          ]
        }
      ]
    },
    {
      "cell_type": "code",
      "source": [
        "print(\"Bu shinta berkata, \\Makan Sosis so nice\\\"\")\n"
      ],
      "metadata": {
        "id": "Ru4LRF7FIUHW",
        "colab": {
          "base_uri": "https://localhost:8080/"
        },
        "outputId": "6d89065d-d82c-483d-91dc-555ab459b2ed"
      },
      "execution_count": null,
      "outputs": [
        {
          "output_type": "stream",
          "name": "stdout",
          "text": [
            "Bu shinta berkata, \\Makan Sosis so nice\"\n"
          ]
        },
        {
          "output_type": "stream",
          "name": "stderr",
          "text": [
            "<>:1: SyntaxWarning: invalid escape sequence '\\M'\n",
            "<>:1: SyntaxWarning: invalid escape sequence '\\M'\n",
            "/tmp/ipython-input-3897152253.py:1: SyntaxWarning: invalid escape sequence '\\M'\n",
            "  print(\"Bu shinta berkata, \\Makan Sosis so nice\\\"\")\n"
          ]
        }
      ]
    },
    {
      "cell_type": "code",
      "source": [
        "print('Bu shinta berkata, \"Makan sosis so nice\"')\n"
      ],
      "metadata": {
        "colab": {
          "base_uri": "https://localhost:8080/"
        },
        "id": "_bc5NjpH9iqz",
        "outputId": "aff6c4d0-8298-4d03-9d4f-023348f9ee08"
      },
      "execution_count": null,
      "outputs": [
        {
          "output_type": "stream",
          "name": "stdout",
          "text": [
            "Bu shinta berkata, \"Makan sosis so nice\"\n"
          ]
        }
      ]
    },
    {
      "cell_type": "code",
      "source": [
        "print('Simpan file di localdisk D:\\\\Man Demak\\\\KKA')\n"
      ],
      "metadata": {
        "colab": {
          "base_uri": "https://localhost:8080/"
        },
        "id": "W8CydH7s9mp4",
        "outputId": "b1e13be0-3f62-4e06-f871-d28935ec0f85"
      },
      "execution_count": null,
      "outputs": [
        {
          "output_type": "stream",
          "name": "stdout",
          "text": [
            "Simpan file di localdisk D:\\Man Demak\\KKA\n"
          ]
        }
      ]
    }
  ]
}