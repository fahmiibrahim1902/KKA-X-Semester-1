{
  "nbformat": 4,
  "nbformat_minor": 0,
  "metadata": {
    "colab": {
      "provenance": [],
      "authorship_tag": "ABX9TyOsd7X0P5lNuCM4Yy22NJUB",
      "include_colab_link": true
    },
    "kernelspec": {
      "name": "python3",
      "display_name": "Python 3"
    },
    "language_info": {
      "name": "python"
    }
  },
  "cells": [
    {
      "cell_type": "markdown",
      "metadata": {
        "id": "view-in-github",
        "colab_type": "text"
      },
      "source": [
        "<a href=\"https://colab.research.google.com/github/fahmiibrahim1902/KKA-X-Semester-1/blob/main/1_Fungsi_print_nama_muhammad_fahmi_ibrahim_X10.ipynb\" target=\"_parent\"><img src=\"https://colab.research.google.com/assets/colab-badge.svg\" alt=\"Open In Colab\"/></a>"
      ]
    },
    {
      "cell_type": "markdown",
      "source": [
        "MENAMPILKAN TEKS BEBAS"
      ],
      "metadata": {
        "id": "2WjZ-4pFQuyz"
      }
    },
    {
      "cell_type": "code",
      "execution_count": null,
      "metadata": {
        "colab": {
          "base_uri": "https://localhost:8080/"
        },
        "id": "ZCrl1biALQNF",
        "outputId": "6d94c220-1e8f-409c-a768-5f6b651d46d2"
      },
      "outputs": [
        {
          "output_type": "stream",
          "name": "stdout",
          "text": [
            "Muhammad Fahmi Ibrahim\n"
          ]
        }
      ],
      "source": [
        "nama = \"Muhammad Fahmi Ibrahim\"\n",
        "print(nama)"
      ]
    },
    {
      "cell_type": "code",
      "source": [
        "print('oki fahmi ibrahim')"
      ],
      "metadata": {
        "colab": {
          "base_uri": "https://localhost:8080/"
        },
        "id": "3ngRT11HQ9DF",
        "outputId": "8f15e711-374a-4f1a-ec00-db547d0d11fe"
      },
      "execution_count": 17,
      "outputs": [
        {
          "output_type": "stream",
          "name": "stdout",
          "text": [
            "oki fahmi ibrahim\n"
          ]
        }
      ]
    },
    {
      "cell_type": "markdown",
      "source": [
        "Menampilkan Nilai Variabel"
      ],
      "metadata": {
        "id": "1Ny4cXTPRJ_P"
      }
    },
    {
      "cell_type": "code",
      "source": [
        "namaSaudara = \"adilan naufal hidayat\"\n",
        "print (namaSaudara)"
      ],
      "metadata": {
        "colab": {
          "base_uri": "https://localhost:8080/"
        },
        "id": "ymrBPw-GROtN",
        "outputId": "709cc3bf-56af-429f-ef49-c6b019f1fd9c"
      },
      "execution_count": 19,
      "outputs": [
        {
          "output_type": "stream",
          "name": "stdout",
          "text": [
            "adilan naufal hidayat\n"
          ]
        }
      ]
    },
    {
      "cell_type": "code",
      "source": [
        "Usia = \"15\"\n",
        "print(Usia)"
      ],
      "metadata": {
        "id": "v16hoF7tMmGp"
      },
      "execution_count": null,
      "outputs": []
    },
    {
      "cell_type": "code",
      "source": [
        "mataPelajaranFavorit = \"PPKN\"\n",
        "print (mataPelajaranFavorit)"
      ],
      "metadata": {
        "id": "zQaqg73EMnwu",
        "colab": {
          "base_uri": "https://localhost:8080/"
        },
        "outputId": "9dec5e1c-7b09-4803-caa3-e973638c17d9"
      },
      "execution_count": 20,
      "outputs": [
        {
          "output_type": "stream",
          "name": "stdout",
          "text": [
            "PPKN\n"
          ]
        }
      ]
    },
    {
      "cell_type": "code",
      "source": [
        "mataPelajaranFavorit = \"PPKN\"\n",
        "print (mataPelajaranFavorit)"
      ],
      "metadata": {
        "id": "dvuiofSDMpl9"
      },
      "execution_count": null,
      "outputs": []
    },
    {
      "cell_type": "markdown",
      "source": [
        "Escape Character"
      ],
      "metadata": {
        "id": "lkVfaxOCRi-3"
      }
    },
    {
      "cell_type": "code",
      "source": [
        "print(\"Nana\\t\\t: Muhammad Fahmi Ibrahim\\Kelas\\t\\t: X.10\\nNo absent: 15\")"
      ],
      "metadata": {
        "colab": {
          "base_uri": "https://localhost:8080/"
        },
        "id": "BI1y8bGDSznW",
        "outputId": "6adb89f1-ce41-4d75-971d-0ac9d377b492"
      },
      "execution_count": 21,
      "outputs": [
        {
          "output_type": "stream",
          "name": "stdout",
          "text": [
            "Nana\t\t: Muhammad Fahmi Ibrahim\\Kelas\t\t: X.10\n",
            "No absent: 15\n"
          ]
        },
        {
          "output_type": "stream",
          "name": "stderr",
          "text": [
            "<>:1: SyntaxWarning: invalid escape sequence '\\K'\n",
            "<>:1: SyntaxWarning: invalid escape sequence '\\K'\n",
            "/tmp/ipython-input-1753183597.py:1: SyntaxWarning: invalid escape sequence '\\K'\n",
            "  print(\"Nana\\t\\t: Muhammad Fahmi Ibrahim\\Kelas\\t\\t: X.10\\nNo absent: 15\")\n"
          ]
        }
      ]
    },
    {
      "cell_type": "code",
      "source": [
        "print(\"\"\"Nama: Muhammad Fahmi Ibrahim Kelas: X.10 No absen: 15\")"
      ],
      "metadata": {
        "colab": {
          "base_uri": "https://localhost:8080/",
          "height": 124
        },
        "id": "2J2Ml4PdTMiY",
        "outputId": "0d917902-97d2-4005-f131-873d315db2c2"
      },
      "execution_count": 22,
      "outputs": [
        {
          "output_type": "error",
          "ename": "SyntaxError",
          "evalue": "incomplete input (ipython-input-2668138754.py, line 1)",
          "traceback": [
            "\u001b[0;36m  File \u001b[0;32m\"/tmp/ipython-input-2668138754.py\"\u001b[0;36m, line \u001b[0;32m1\u001b[0m\n\u001b[0;31m    print(\"\"\"Nama: Muhammad Fahmi Ibrahim Kelas: X.10 No absen: 15\")\u001b[0m\n\u001b[0m          ^\u001b[0m\n\u001b[0;31mSyntaxError\u001b[0m\u001b[0;31m:\u001b[0m incomplete input\n"
          ]
        }
      ]
    },
    {
      "cell_type": "code",
      "source": [
        "print(\"A\"Fahmi\")"
      ],
      "metadata": {
        "colab": {
          "base_uri": "https://localhost:8080/",
          "height": 124
        },
        "id": "VuaPrVFNTTmh",
        "outputId": "2bf5fae4-1343-4334-a4d0-0ad735eed7da"
      },
      "execution_count": 23,
      "outputs": [
        {
          "output_type": "error",
          "ename": "SyntaxError",
          "evalue": "unterminated string literal (detected at line 1) (ipython-input-4290086090.py, line 1)",
          "traceback": [
            "\u001b[0;36m  File \u001b[0;32m\"/tmp/ipython-input-4290086090.py\"\u001b[0;36m, line \u001b[0;32m1\u001b[0m\n\u001b[0;31m    print(\"A\"Fahmi\")\u001b[0m\n\u001b[0m                  ^\u001b[0m\n\u001b[0;31mSyntaxError\u001b[0m\u001b[0;31m:\u001b[0m unterminated string literal (detected at line 1)\n"
          ]
        }
      ]
    },
    {
      "cell_type": "code",
      "source": [
        "print('A\\\"Fahmi\")"
      ],
      "metadata": {
        "colab": {
          "base_uri": "https://localhost:8080/",
          "height": 124
        },
        "id": "4KBlUXNxTWeC",
        "outputId": "3a2ab6be-87ad-4186-e96e-daabbb836d7e"
      },
      "execution_count": 24,
      "outputs": [
        {
          "output_type": "error",
          "ename": "SyntaxError",
          "evalue": "unterminated string literal (detected at line 1) (ipython-input-1423508353.py, line 1)",
          "traceback": [
            "\u001b[0;36m  File \u001b[0;32m\"/tmp/ipython-input-1423508353.py\"\u001b[0;36m, line \u001b[0;32m1\u001b[0m\n\u001b[0;31m    print('A\\\"Fahmi\")\u001b[0m\n\u001b[0m          ^\u001b[0m\n\u001b[0;31mSyntaxError\u001b[0m\u001b[0;31m:\u001b[0m unterminated string literal (detected at line 1)\n"
          ]
        }
      ]
    },
    {
      "cell_type": "code",
      "source": [
        "print('Fahmi\")"
      ],
      "metadata": {
        "colab": {
          "base_uri": "https://localhost:8080/",
          "height": 124
        },
        "id": "PATmdCpjTdFZ",
        "outputId": "98feba64-43e0-4876-d9f3-0e7cb910d511"
      },
      "execution_count": 25,
      "outputs": [
        {
          "output_type": "error",
          "ename": "SyntaxError",
          "evalue": "unterminated string literal (detected at line 1) (ipython-input-1337386996.py, line 1)",
          "traceback": [
            "\u001b[0;36m  File \u001b[0;32m\"/tmp/ipython-input-1337386996.py\"\u001b[0;36m, line \u001b[0;32m1\u001b[0m\n\u001b[0;31m    print('Fahmi\")\u001b[0m\n\u001b[0m          ^\u001b[0m\n\u001b[0;31mSyntaxError\u001b[0m\u001b[0;31m:\u001b[0m unterminated string literal (detected at line 1)\n"
          ]
        }
      ]
    },
    {
      "cell_type": "code",
      "source": [
        "print(f\"Halo Nama Saya ({nama}) Saya Umur ({usia}) tahun\")"
      ],
      "metadata": {
        "colab": {
          "base_uri": "https://localhost:8080/",
          "height": 211
        },
        "id": "uQNfnUcPTnKN",
        "outputId": "6d183dd3-9b61-4e8d-9372-96c55787e31c"
      },
      "execution_count": 27,
      "outputs": [
        {
          "output_type": "error",
          "ename": "NameError",
          "evalue": "name 'usia' is not defined",
          "traceback": [
            "\u001b[0;31m---------------------------------------------------------------------------\u001b[0m",
            "\u001b[0;31mNameError\u001b[0m                                 Traceback (most recent call last)",
            "\u001b[0;32m/tmp/ipython-input-4101940224.py\u001b[0m in \u001b[0;36m<cell line: 0>\u001b[0;34m()\u001b[0m\n\u001b[0;32m----> 1\u001b[0;31m \u001b[0mprint\u001b[0m\u001b[0;34m(\u001b[0m\u001b[0;34mf\"Halo Nama Saya ({nama}) Saya Umur ({usia}) tahun\"\u001b[0m\u001b[0;34m)\u001b[0m\u001b[0;34m\u001b[0m\u001b[0;34m\u001b[0m\u001b[0m\n\u001b[0m",
            "\u001b[0;31mNameError\u001b[0m: name 'usia' is not defined"
          ]
        }
      ]
    },
    {
      "cell_type": "code",
      "source": [
        "print('Simpan file di localdisk D:\\\\Man Demak\\\\KKA')"
      ],
      "metadata": {
        "colab": {
          "base_uri": "https://localhost:8080/"
        },
        "id": "59TQVfl2Tum1",
        "outputId": "2fed93b2-9d05-4dc9-c3dd-86e44f617e02"
      },
      "execution_count": 29,
      "outputs": [
        {
          "output_type": "stream",
          "name": "stdout",
          "text": [
            "Simpan file di localdisk D:\\Man Demak\\KKA\n"
          ]
        }
      ]
    },
    {
      "cell_type": "code",
      "source": [
        "print(\"Bu shinta berkata, \\Makan Sosis so nice\\\"\")"
      ],
      "metadata": {
        "colab": {
          "base_uri": "https://localhost:8080/"
        },
        "id": "GHxLyuEiUBxT",
        "outputId": "22a2b57f-bb4d-418a-d793-f708ceffc4b6"
      },
      "execution_count": 30,
      "outputs": [
        {
          "output_type": "stream",
          "name": "stdout",
          "text": [
            "Bu shinta berkata, \\Makan Sosis so nice\"\n"
          ]
        },
        {
          "output_type": "stream",
          "name": "stderr",
          "text": [
            "<>:1: SyntaxWarning: invalid escape sequence '\\M'\n",
            "<>:1: SyntaxWarning: invalid escape sequence '\\M'\n",
            "/tmp/ipython-input-1457027165.py:1: SyntaxWarning: invalid escape sequence '\\M'\n",
            "  print(\"Bu shinta berkata, \\Makan Sosis so nice\\\"\")\n"
          ]
        }
      ]
    },
    {
      "cell_type": "code",
      "source": [
        "nama_panggilan_siswa = \"Fahmi\"\n",
        "print(\"Nama panggilan siswa tersebut adalah\",nama_panggilan_siswa)"
      ],
      "metadata": {
        "colab": {
          "base_uri": "https://localhost:8080/"
        },
        "id": "hvzttJRGMxDD",
        "outputId": "43cd3879-f4be-4bd0-c4fa-eb4ffd58183a"
      },
      "execution_count": null,
      "outputs": [
        {
          "output_type": "stream",
          "name": "stdout",
          "text": [
            "Nama panggilan siswa tersebut adalah Fahmi\n"
          ]
        }
      ]
    },
    {
      "cell_type": "code",
      "source": [
        "print(f\"nama panggilan tersebut adalah ({nama_panggilan_siswa}) loh\")"
      ],
      "metadata": {
        "colab": {
          "base_uri": "https://localhost:8080/"
        },
        "id": "2WdTV1jkNUQQ",
        "outputId": "98e0a6cd-9d5d-4a9b-ea3d-8f9a476224aa"
      },
      "execution_count": null,
      "outputs": [
        {
          "output_type": "stream",
          "name": "stdout",
          "text": [
            "nama panggilan tersebut adalah (Fahmi) loh\n"
          ]
        }
      ]
    },
    {
      "cell_type": "code",
      "source": [
        "nama = \"Muhammad Fahmi Ibrahim\"\n",
        "print(nama)"
      ],
      "metadata": {
        "colab": {
          "base_uri": "https://localhost:8080/"
        },
        "id": "zw-gfuN8NjJd",
        "outputId": "587cd880-1512-4e64-eb8b-565f3c30b8df"
      },
      "execution_count": null,
      "outputs": [
        {
          "output_type": "stream",
          "name": "stdout",
          "text": [
            "Muhammad Fahmi Ibrahim\n"
          ]
        }
      ]
    },
    {
      "cell_type": "code",
      "source": [
        "Usia = \"15\"\n",
        "print(Usia)"
      ],
      "metadata": {
        "colab": {
          "base_uri": "https://localhost:8080/"
        },
        "id": "GwT4cCu2N379",
        "outputId": "4e2df3ee-4426-4980-aa2f-7927fcdd275f"
      },
      "execution_count": null,
      "outputs": [
        {
          "output_type": "stream",
          "name": "stdout",
          "text": [
            "15\n"
          ]
        }
      ]
    },
    {
      "cell_type": "markdown",
      "source": [
        "**3 Menampilkan Teks Bebas dan nilai variabel**"
      ],
      "metadata": {
        "id": "wFHRV8NvOLc7"
      }
    },
    {
      "cell_type": "code",
      "source": [
        "print(\"Halo perkenalkan nama saya\", nama, \"usia saya\",Usia,\"tahun.\")"
      ],
      "metadata": {
        "colab": {
          "base_uri": "https://localhost:8080/"
        },
        "id": "Fi3MaMqzOYfY",
        "outputId": "fb135f1d-fbf5-47ae-dd24-9117acd2a6c3"
      },
      "execution_count": null,
      "outputs": [
        {
          "output_type": "stream",
          "name": "stdout",
          "text": [
            "Halo perkenalkan nama saya Muhammad Fahmi Ibrahim usia saya 15 tahun.\n"
          ]
        }
      ]
    },
    {
      "cell_type": "code",
      "source": [
        "print(\"nama saya \" + nama+\". usia saya \"+ str(Usia)+\"tahun.\")"
      ],
      "metadata": {
        "id": "YBYvzeCaOjUn",
        "outputId": "4c965533-894d-46ac-eea7-5a62cef80b1c",
        "colab": {
          "base_uri": "https://localhost:8080/"
        }
      },
      "execution_count": 12,
      "outputs": [
        {
          "output_type": "stream",
          "name": "stdout",
          "text": [
            "nama saya Muhammad Fahmi Ibrahim. usia saya 15tahun.\n"
          ]
        }
      ]
    },
    {
      "cell_type": "code",
      "source": [
        "nama_siswa_1=\"fahmi\"\n",
        "nama_siswa_2=\"nopal\"\n",
        "print (nama_siswa_1)"
      ],
      "metadata": {
        "colab": {
          "base_uri": "https://localhost:8080/"
        },
        "id": "3w5lCE7cPRhy",
        "outputId": "0be34954-a844-49a4-f098-1210b1bef67b"
      },
      "execution_count": 13,
      "outputs": [
        {
          "output_type": "stream",
          "name": "stdout",
          "text": [
            "fahmi\n"
          ]
        }
      ]
    },
    {
      "cell_type": "code",
      "source": [
        "print (nama_siswa_1,nama_siswa_2)"
      ],
      "metadata": {
        "colab": {
          "base_uri": "https://localhost:8080/"
        },
        "id": "8NSjZBLcPcmJ",
        "outputId": "6bbc6d8a-c65e-4d4f-8ad6-757c4c7f3640"
      },
      "execution_count": 14,
      "outputs": [
        {
          "output_type": "stream",
          "name": "stdout",
          "text": [
            "fahmi nopal\n"
          ]
        }
      ]
    },
    {
      "cell_type": "code",
      "source": [
        "print(nama_siswa_1,nama_siswa_2,nama_siswa_1,sep=\"*\")"
      ],
      "metadata": {
        "colab": {
          "base_uri": "https://localhost:8080/"
        },
        "id": "02FGFnxFPkQb",
        "outputId": "c1a9a45d-6687-4b27-b585-32a479dd38d8"
      },
      "execution_count": 15,
      "outputs": [
        {
          "output_type": "stream",
          "name": "stdout",
          "text": [
            "fahmi*nopal*fahmi\n"
          ]
        }
      ]
    },
    {
      "cell_type": "code",
      "source": [
        "print (nama_siswa_1,end=\"*\")\n",
        "print (nama_siswa_2)"
      ],
      "metadata": {
        "colab": {
          "base_uri": "https://localhost:8080/"
        },
        "id": "55VPQnWqPoqb",
        "outputId": "800f1d8b-b236-4975-ef4c-148ca80eb09a"
      },
      "execution_count": 16,
      "outputs": [
        {
          "output_type": "stream",
          "name": "stdout",
          "text": [
            "fahmi*nopal\n"
          ]
        }
      ]
    }
  ]
}