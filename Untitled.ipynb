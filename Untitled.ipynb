{
  "nbformat": 4,
  "nbformat_minor": 0,
  "metadata": {
    "colab": {
      "provenance": [],
      "authorship_tag": "ABX9TyNvbvGl2ksqO2R8ZOVJ+y3H",
      "include_colab_link": true
    },
    "kernelspec": {
      "name": "python3",
      "display_name": "Python 3"
    },
    "language_info": {
      "name": "python"
    }
  },
  "cells": [
    {
      "cell_type": "markdown",
      "metadata": {
        "id": "view-in-github",
        "colab_type": "text"
      },
      "source": [
        "<a href=\"https://colab.research.google.com/github/fahmiibrahim1902/KKA-X-Semester-1/blob/main/Untitled.ipynb\" target=\"_parent\"><img src=\"https://colab.research.google.com/assets/colab-badge.svg\" alt=\"Open In Colab\"/></a>"
      ]
    },
    {
      "cell_type": "code",
      "execution_count": null,
      "metadata": {
        "colab": {
          "base_uri": "https://localhost:8080/"
        },
        "id": "ZCrl1biALQNF",
        "outputId": "6d94c220-1e8f-409c-a768-5f6b651d46d2"
      },
      "outputs": [
        {
          "output_type": "stream",
          "name": "stdout",
          "text": [
            "Muhammad Fahmi Ibrahim\n"
          ]
        }
      ],
      "source": [
        "nama = \"Muhammad Fahmi Ibrahim\"\n",
        "print(nama)"
      ]
    },
    {
      "cell_type": "code",
      "source": [
        "Usia = \"15\"\n",
        "print(Usia)"
      ],
      "metadata": {
        "id": "v16hoF7tMmGp"
      },
      "execution_count": null,
      "outputs": []
    },
    {
      "cell_type": "code",
      "source": [
        "mataPelajaranFavorit = \"PPKN\"\n",
        "print (mataPelajaranFavorit)"
      ],
      "metadata": {
        "id": "zQaqg73EMnwu"
      },
      "execution_count": null,
      "outputs": []
    },
    {
      "cell_type": "code",
      "source": [
        "mataPelajaranFavorit = \"PPKN\"\n",
        "print (mataPelajaranFavorit)"
      ],
      "metadata": {
        "id": "dvuiofSDMpl9"
      },
      "execution_count": null,
      "outputs": []
    },
    {
      "cell_type": "code",
      "source": [
        "nama_panggilan_siswa = \"Fahmi\"\n",
        "print(\"Nama panggilan siswa tersebut adalah\",nama_panggilan_siswa)"
      ],
      "metadata": {
        "colab": {
          "base_uri": "https://localhost:8080/"
        },
        "id": "hvzttJRGMxDD",
        "outputId": "43cd3879-f4be-4bd0-c4fa-eb4ffd58183a"
      },
      "execution_count": null,
      "outputs": [
        {
          "output_type": "stream",
          "name": "stdout",
          "text": [
            "Nama panggilan siswa tersebut adalah Fahmi\n"
          ]
        }
      ]
    },
    {
      "cell_type": "markdown",
      "source": [],
      "metadata": {
        "id": "dSl_kqlPNa5L"
      }
    },
    {
      "cell_type": "code",
      "source": [
        "print(f\"nama panggilan tersebut adalah ({nama_panggilan_siswa}) loh\")"
      ],
      "metadata": {
        "colab": {
          "base_uri": "https://localhost:8080/"
        },
        "id": "2WdTV1jkNUQQ",
        "outputId": "98e0a6cd-9d5d-4a9b-ea3d-8f9a476224aa"
      },
      "execution_count": null,
      "outputs": [
        {
          "output_type": "stream",
          "name": "stdout",
          "text": [
            "nama panggilan tersebut adalah (Fahmi) loh\n"
          ]
        }
      ]
    },
    {
      "cell_type": "code",
      "source": [
        "nama = \"Muhammad Fahmi Ibrahim\"\n",
        "print(nama)"
      ],
      "metadata": {
        "colab": {
          "base_uri": "https://localhost:8080/"
        },
        "id": "zw-gfuN8NjJd",
        "outputId": "587cd880-1512-4e64-eb8b-565f3c30b8df"
      },
      "execution_count": null,
      "outputs": [
        {
          "output_type": "stream",
          "name": "stdout",
          "text": [
            "Muhammad Fahmi Ibrahim\n"
          ]
        }
      ]
    },
    {
      "cell_type": "code",
      "source": [
        "Usia = \"15\"\n",
        "print(Usia)"
      ],
      "metadata": {
        "colab": {
          "base_uri": "https://localhost:8080/"
        },
        "id": "GwT4cCu2N379",
        "outputId": "4e2df3ee-4426-4980-aa2f-7927fcdd275f"
      },
      "execution_count": null,
      "outputs": [
        {
          "output_type": "stream",
          "name": "stdout",
          "text": [
            "15\n"
          ]
        }
      ]
    },
    {
      "cell_type": "markdown",
      "source": [
        "**3 Menampilkan Teks Bebas dan nilai variabel**"
      ],
      "metadata": {
        "id": "wFHRV8NvOLc7"
      }
    },
    {
      "cell_type": "code",
      "source": [
        "print(\"Halo perkenalkan nama saya\", nama, \"usia saya\",Usia,\"tahun.\")"
      ],
      "metadata": {
        "colab": {
          "base_uri": "https://localhost:8080/"
        },
        "id": "Fi3MaMqzOYfY",
        "outputId": "fb135f1d-fbf5-47ae-dd24-9117acd2a6c3"
      },
      "execution_count": null,
      "outputs": [
        {
          "output_type": "stream",
          "name": "stdout",
          "text": [
            "Halo perkenalkan nama saya Muhammad Fahmi Ibrahim usia saya 15 tahun.\n"
          ]
        }
      ]
    },
    {
      "cell_type": "code",
      "source": [
        "print(\"nama saya \" + nama+\". usia saya \"+ str(Usia)+\"tahun.\")"
      ],
      "metadata": {
        "id": "YBYvzeCaOjUn",
        "outputId": "4c965533-894d-46ac-eea7-5a62cef80b1c",
        "colab": {
          "base_uri": "https://localhost:8080/"
        }
      },
      "execution_count": 12,
      "outputs": [
        {
          "output_type": "stream",
          "name": "stdout",
          "text": [
            "nama saya Muhammad Fahmi Ibrahim. usia saya 15tahun.\n"
          ]
        }
      ]
    },
    {
      "cell_type": "code",
      "source": [
        "nama_siswa_1=\"fahmi\"\n",
        "nama_siswa_2=\"nopal\"\n",
        "print (nama_siswa_1)"
      ],
      "metadata": {
        "colab": {
          "base_uri": "https://localhost:8080/"
        },
        "id": "3w5lCE7cPRhy",
        "outputId": "0be34954-a844-49a4-f098-1210b1bef67b"
      },
      "execution_count": 13,
      "outputs": [
        {
          "output_type": "stream",
          "name": "stdout",
          "text": [
            "fahmi\n"
          ]
        }
      ]
    },
    {
      "cell_type": "code",
      "source": [
        "print (nama_siswa_1,nama_siswa_2)"
      ],
      "metadata": {
        "colab": {
          "base_uri": "https://localhost:8080/"
        },
        "id": "8NSjZBLcPcmJ",
        "outputId": "6bbc6d8a-c65e-4d4f-8ad6-757c4c7f3640"
      },
      "execution_count": 14,
      "outputs": [
        {
          "output_type": "stream",
          "name": "stdout",
          "text": [
            "fahmi nopal\n"
          ]
        }
      ]
    },
    {
      "cell_type": "code",
      "source": [
        "print(nama_siswa_1,nama_siswa_2,nama_siswa_1,sep=\"*\")"
      ],
      "metadata": {
        "colab": {
          "base_uri": "https://localhost:8080/"
        },
        "id": "02FGFnxFPkQb",
        "outputId": "c1a9a45d-6687-4b27-b585-32a479dd38d8"
      },
      "execution_count": 15,
      "outputs": [
        {
          "output_type": "stream",
          "name": "stdout",
          "text": [
            "fahmi*nopal*fahmi\n"
          ]
        }
      ]
    },
    {
      "cell_type": "code",
      "source": [
        "print (nama_siswa_1,end=\"*\")\n",
        "print (nama_siswa_2)"
      ],
      "metadata": {
        "colab": {
          "base_uri": "https://localhost:8080/"
        },
        "id": "55VPQnWqPoqb",
        "outputId": "800f1d8b-b236-4975-ef4c-148ca80eb09a"
      },
      "execution_count": 16,
      "outputs": [
        {
          "output_type": "stream",
          "name": "stdout",
          "text": [
            "fahmi*nopal\n"
          ]
        }
      ]
    }
  ]
}